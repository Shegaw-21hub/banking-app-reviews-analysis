{
 "cells": [
  {
   "cell_type": "code",
   "execution_count": 8,
   "metadata": {},
   "outputs": [
    {
     "name": "stderr",
     "output_type": "stream",
     "text": [
      "[nltk_data] Downloading package punkt to\n",
      "[nltk_data]     C:\\Users\\Administrator\\AppData\\Roaming\\nltk_data...\n",
      "[nltk_data]   Package punkt is already up-to-date!\n",
      "[nltk_data] Downloading package stopwords to\n",
      "[nltk_data]     C:\\Users\\Administrator\\AppData\\Roaming\\nltk_data...\n",
      "[nltk_data]   Package stopwords is already up-to-date!\n",
      "[nltk_data] Downloading package punkt to\n",
      "[nltk_data]     C:\\Users\\Administrator\\AppData\\Roaming\\nltk_data...\n",
      "[nltk_data]   Package punkt is already up-to-date!\n",
      "[nltk_data] Downloading package stopwords to\n",
      "[nltk_data]     C:\\Users\\Administrator\\AppData\\Roaming\\nltk_data...\n",
      "[nltk_data]   Package stopwords is already up-to-date!\n",
      "[nltk_data] Downloading package punkt_tab to\n",
      "[nltk_data]     C:\\Users\\Administrator\\AppData\\Roaming\\nltk_data...\n",
      "[nltk_data]   Package punkt_tab is already up-to-date!\n"
     ]
    },
    {
     "name": "stdout",
     "output_type": "stream",
     "text": [
      "Preprocessed data saved to data/bank_reviews_clean.csv\n"
     ]
    }
   ],
   "source": [
    "import pandas as pd\n",
    "import re\n",
    "from nltk.corpus import stopwords\n",
    "from nltk.tokenize import word_tokenize\n",
    "import nltk\n",
    "nltk.download('punkt')\n",
    "nltk.download('stopwords')\n",
    "import os\n",
    "\n",
    "# Download NLTK resources\n",
    "nltk.download('punkt')\n",
    "nltk.download('stopwords')\n",
    "nltk.download('punkt_tab')\n",
    "\n",
    "def clean_text(text):\n",
    "    \"\"\"Clean review text\"\"\"\n",
    "    if not isinstance(text, str):\n",
    "        return \"\"\n",
    "    \n",
    "    # Remove special characters and numbers\n",
    "    text = re.sub(r'[^a-zA-Z\\s]', '', text)\n",
    "    \n",
    "    # Convert to lowercase\n",
    "    text = text.lower()\n",
    "    \n",
    "    # Tokenize and remove stopwords\n",
    "    tokens = word_tokenize(text)\n",
    "    stop_words = set(stopwords.words('english'))\n",
    "    tokens = [word for word in tokens if word not in stop_words]\n",
    "    \n",
    "    return ' '.join(tokens)\n",
    "\n",
    "def preprocess_data(input_file, output_file):\n",
    "    \"\"\"Preprocess the scraped data\"\"\"\n",
    "    # Create data directory if not exists\n",
    "    os.makedirs('data', exist_ok=True)\n",
    "    \n",
    "    # Load data\n",
    "    df = pd.read_csv(r\"D:\\Project\\banking-app-reviews-analysis\\data\\bank_reviews_raw.csv\")\n",
    "    \n",
    "    # Clean review text\n",
    "    df['cleaned_review'] = df['review'].apply(clean_text)\n",
    "    \n",
    "    # Ensure proper date format\n",
    "    df['date'] = pd.to_datetime(df['date']).dt.strftime('%Y-%m-%d')\n",
    "    \n",
    "    # Save cleaned data\n",
    "    df.to_csv(output_file, index=False)\n",
    "    print(f\"Preprocessed data saved to {output_file}\")\n",
    "\n",
    "if __name__ == \"__main__\":\n",
    "    preprocess_data(\n",
    "        input_file='data/bank_reviews_raw.csv',\n",
    "        output_file='data/bank_reviews_clean.csv'\n",
    "    )"
   ]
  },
  {
   "cell_type": "code",
   "execution_count": 11,
   "metadata": {},
   "outputs": [
    {
     "name": "stdout",
     "output_type": "stream",
     "text": [
      "Missing data (%):\n",
      "review    0.0\n",
      "rating    0.0\n",
      "date      0.0\n",
      "bank      0.0\n",
      "source    0.0\n",
      "dtype: float64\n",
      "\n",
      "✅ All columns have 5% or less missing data.\n"
     ]
    }
   ],
   "source": [
    "import pandas as pd\n",
    "\n",
    "# Load your dataset\n",
    "df = pd.read_csv(r\"D:\\Project\\banking-app-reviews-analysis\\data\\bank_reviews_raw.csv\")\n",
    "# Calculate total number of rows\n",
    "total_rows = len(df)\n",
    "\n",
    "# Calculate missing values per column\n",
    "missing_counts = df.isnull().sum()\n",
    "\n",
    "# Calculate missing percentages\n",
    "missing_percentages = (missing_counts / total_rows) * 100\n",
    "\n",
    "# Print missing percentages\n",
    "print(\"Missing data (%):\")\n",
    "print(missing_percentages)\n",
    "\n",
    "# Identify columns exceeding 5% missing\n",
    "above_5_percent = missing_percentages[missing_percentages > 5]\n",
    "\n",
    "if not above_5_percent.empty:\n",
    "    print(\"\\n❌ Columns with more than 5% missing data:\")\n",
    "    print(above_5_percent)\n",
    "else:\n",
    "    print(\"\\n✅ All columns have 5% or less missing data.\")\n"
   ]
  }
 ],
 "metadata": {
  "kernelspec": {
   "display_name": "venv",
   "language": "python",
   "name": "python3"
  },
  "language_info": {
   "codemirror_mode": {
    "name": "ipython",
    "version": 3
   },
   "file_extension": ".py",
   "mimetype": "text/x-python",
   "name": "python",
   "nbconvert_exporter": "python",
   "pygments_lexer": "ipython3",
   "version": "3.11.9"
  }
 },
 "nbformat": 4,
 "nbformat_minor": 2
}
