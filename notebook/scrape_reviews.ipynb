{
 "cells": [
  {
   "cell_type": "code",
   "execution_count": 8,
   "metadata": {},
   "outputs": [
    {
     "name": "stdout",
     "output_type": "stream",
     "text": [
      "\n",
      "Scraping reviews for Commercial Bank of Ethiopia...\n",
      "Successfully collected 400 reviews for Commercial Bank of Ethiopia\n",
      "\n",
      "Scraping reviews for Bank of Abyssinia...\n",
      "Successfully collected 400 reviews for Bank of Abyssinia\n",
      "\n",
      "Scraping reviews for Dashen Bank...\n",
      "Successfully collected 400 reviews for Dashen Bank\n",
      "\n",
      "Total reviews collected: 1180\n",
      "Data saved to data/bank_reviews_raw.csv\n"
     ]
    }
   ],
   "source": [
    "from google_play_scraper import app, Sort, reviews_all\n",
    "import pandas as pd\n",
    "import os\n",
    "import time\n",
    "from datetime import datetime\n",
    "\n",
    "# Ensure data folder exists\n",
    "os.makedirs(\"data\", exist_ok=True)\n",
    "\n",
    "# Updated bank app details with verified package names\n",
    "banks = {\n",
    "    \"Commercial Bank of Ethiopia\": \"com.combanketh.mobilebanking\",\n",
    "    \"Bank of Abyssinia\": \"com.boa.boaMobileBanking\", \n",
    "    \"Dashen Bank\": \"com.dashen.dashensuperapp\"\n",
    "}\n",
    "\n",
    "def scrape_app_reviews(app_id, bank_name, max_reviews=400):\n",
    "    \"\"\"\n",
    "    Scrape reviews for a given app ID\n",
    "    \"\"\"\n",
    "    try:\n",
    "        # Get all available reviews (no continuation token in current version)\n",
    "        all_reviews = reviews_all(\n",
    "            app_id,\n",
    "            lang='en',\n",
    "            country='et',\n",
    "            sort=Sort.NEWEST,\n",
    "            count=max_reviews  # Limit directly in the API call\n",
    "        )\n",
    "        \n",
    "        return all_reviews[:max_reviews]\n",
    "    \n",
    "    except Exception as e:\n",
    "        print(f\"Error fetching reviews for {bank_name}: {str(e)}\")\n",
    "        return []\n",
    "\n",
    "def process_reviews(raw_reviews, bank_name):\n",
    "    \"\"\"\n",
    "    Process raw reviews into structured format with error handling\n",
    "    \"\"\"\n",
    "    processed = []\n",
    "    \n",
    "    for review in raw_reviews:\n",
    "        try:\n",
    "            review_date = review.get('at', datetime.now())\n",
    "            if isinstance(review_date, str):\n",
    "                review_date = datetime.strptime(review_date, '%Y-%m-%d %H:%M:%S')\n",
    "                \n",
    "            processed.append({\n",
    "                'review': review.get('content', ''),\n",
    "                'rating': review.get('score', 0),\n",
    "                'date': review_date.strftime('%Y-%m-%d'),\n",
    "                'bank': bank_name,\n",
    "                'source': 'Google Play'\n",
    "            })\n",
    "        except Exception as e:\n",
    "            print(f\"Error processing review: {str(e)}\")\n",
    "            continue\n",
    "            \n",
    "    return processed\n",
    "\n",
    "def main():\n",
    "    all_reviews = []\n",
    "    \n",
    "    for bank_name, app_id in banks.items():\n",
    "        print(f\"\\nScraping reviews for {bank_name}...\")\n",
    "        \n",
    "        # Scrape reviews\n",
    "        bank_reviews = scrape_app_reviews(app_id, bank_name)\n",
    "        \n",
    "        if not bank_reviews:\n",
    "            print(f\"No reviews found for {bank_name}\")\n",
    "            continue\n",
    "            \n",
    "        # Process reviews\n",
    "        processed = process_reviews(bank_reviews, bank_name)\n",
    "        all_reviews.extend(processed)\n",
    "        print(f\"Successfully collected {len(processed)} reviews for {bank_name}\")\n",
    "        \n",
    "        # Rate limiting\n",
    "        time.sleep(5)\n",
    "    \n",
    "    if not all_reviews:\n",
    "        print(\"\\nFailed to collect any reviews. Exiting.\")\n",
    "        return\n",
    "        \n",
    "    # Create DataFrame\n",
    "    df = pd.DataFrame(all_reviews)\n",
    "    \n",
    "    # Data cleaning\n",
    "    df = df.drop_duplicates(subset=['review', 'bank'])\n",
    "    df = df[df['review'].notna() & (df['review'].str.strip() != '')]\n",
    "    \n",
    "    print(f\"\\nTotal reviews collected: {len(df)}\")\n",
    "    \n",
    "    # Save to CSV\n",
    "    csv_path = \"data/bank_reviews_raw.csv\"\n",
    "    df.to_csv(csv_path, index=False)\n",
    "    print(f\"Data saved to {csv_path}\")\n",
    "\n",
    "if __name__ == \"__main__\":\n",
    "    main()"
   ]
  },
  {
   "cell_type": "code",
   "execution_count": 9,
   "metadata": {},
   "outputs": [
    {
     "name": "stdout",
     "output_type": "stream",
     "text": [
      "Raw Data Columns: Index(['review', 'rating', 'date', 'bank', 'source'], dtype='object')\n",
      "Clean Data Columns: Index(['review', 'rating', 'date', 'bank', 'source', 'cleaned_review'], dtype='object')\n"
     ]
    }
   ],
   "source": [
    "import pandas as pd\n",
    "\n",
    "raw_df = pd.read_csv(\"data/bank_reviews_raw.csv\")\n",
    "clean_df = pd.read_csv(\"data/bank_reviews_clean.csv\")\n",
    "\n",
    "print(\"Raw Data Columns:\", raw_df.columns)\n",
    "print(\"Clean Data Columns:\", clean_df.columns)"
   ]
  },
  {
   "cell_type": "code",
   "execution_count": 10,
   "metadata": {},
   "outputs": [
    {
     "name": "stdout",
     "output_type": "stream",
     "text": [
      "                                              review        date\n",
      "0  The CBE app has been highly unreliable in rece...  2025-05-25\n",
      "1  this new update(Mar 19,2025) is great in fixin...  2025-03-20\n",
      "2  Good job to the CBE team on this mobile app! I...  2025-04-04\n",
      "3  this app has developed in a very good ways but...  2025-05-31\n",
      "4  as if the update of march 19 i can't take a sc...  2025-03-19\n",
      "                                      cleaned_review        date\n",
      "0  cbe app highly unreliable recent weeks frequen...  2025-05-25\n",
      "1  new updatemar great fixing bugs stability smoo...  2025-03-20\n",
      "2  good job cbe team mobile app designed way that...  2025-04-04\n",
      "3  app developed good ways comments need make pre...  2025-05-31\n",
      "4  update march cant take screenshot app save fil...  2025-03-19\n"
     ]
    }
   ],
   "source": [
    "print(raw_df[['review', 'date']].head())  # Original raw text and date\n",
    "print(clean_df[['cleaned_review', 'date']].head())  # Processed version"
   ]
  },
  {
   "cell_type": "code",
   "execution_count": 11,
   "metadata": {},
   "outputs": [
    {
     "name": "stdout",
     "output_type": "stream",
     "text": [
      "                                              review  rating        date  \\\n",
      "0  The CBE app has been highly unreliable in rece...       2  2025-05-25   \n",
      "1  this new update(Mar 19,2025) is great in fixin...       4  2025-03-20   \n",
      "2  Good job to the CBE team on this mobile app! I...       5  2025-04-04   \n",
      "3  this app has developed in a very good ways but...       5  2025-05-31   \n",
      "4  as if the update of march 19 i can't take a sc...       2  2025-03-19   \n",
      "\n",
      "                          bank       source  \\\n",
      "0  Commercial Bank of Ethiopia  Google Play   \n",
      "1  Commercial Bank of Ethiopia  Google Play   \n",
      "2  Commercial Bank of Ethiopia  Google Play   \n",
      "3  Commercial Bank of Ethiopia  Google Play   \n",
      "4  Commercial Bank of Ethiopia  Google Play   \n",
      "\n",
      "                                      cleaned_review  \n",
      "0  cbe app highly unreliable recent weeks frequen...  \n",
      "1  new updatemar great fixing bugs stability smoo...  \n",
      "2  good job cbe team mobile app designed way that...  \n",
      "3  app developed good ways comments need make pre...  \n",
      "4  update march cant take screenshot app save fil...  \n"
     ]
    }
   ],
   "source": [
    "import pandas as pd\n",
    "\n",
    "df = pd.read_csv(\"data/bank_reviews_clean.csv\")\n",
    "print(df.head())  # Displays first few rows as a table"
   ]
  }
 ],
 "metadata": {
  "kernelspec": {
   "display_name": "venv",
   "language": "python",
   "name": "python3"
  },
  "language_info": {
   "codemirror_mode": {
    "name": "ipython",
    "version": 3
   },
   "file_extension": ".py",
   "mimetype": "text/x-python",
   "name": "python",
   "nbconvert_exporter": "python",
   "pygments_lexer": "ipython3",
   "version": "3.11.9"
  }
 },
 "nbformat": 4,
 "nbformat_minor": 2
}
